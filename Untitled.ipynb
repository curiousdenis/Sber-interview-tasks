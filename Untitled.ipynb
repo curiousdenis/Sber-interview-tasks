{
 "cells": [
  {
   "cell_type": "code",
   "execution_count": 1,
   "id": "dca5046e",
   "metadata": {},
   "outputs": [],
   "source": [
    "#next_smaller(21) = 12\n",
    "#next_smaller(531) = 513\n",
    "#next_smaller(2071) =2017"
   ]
  },
  {
   "cell_type": "code",
   "execution_count": 223,
   "id": "e230520a",
   "metadata": {},
   "outputs": [
    {
     "data": {
      "text/plain": [
       "[101, 110, 110, 101]"
      ]
     },
     "execution_count": 223,
     "metadata": {},
     "output_type": "execute_result"
    }
   ],
   "source": [
    "#second task\n",
    "def next_smaller(number):\n",
    "    unique_list = all_possible_list(number)\n",
    "    bubble_sort(unique_list)\n",
    "    for index, i in enumerate(unique_list):\n",
    "        if index == 0:\n",
    "            return unique_list[index]\n",
    "        elif i == number:\n",
    "            return unique_list[index-1]\n",
    "        else:\n",
    "            pass\n",
    "    \n",
    "def all_possible_list(number):\n",
    "    str_number = str(number)\n",
    "    unique_list = []\n",
    "    for i in range(0,3):\n",
    "        for j in range(0,3):\n",
    "            for k in range(0,3):\n",
    "                if (i!=j and j!=k and k!=i) and str_number[i] != '0':\n",
    "                    unique_list.append(int(str_number[i] + str_number[j] + str_number[k]))\n",
    "    return unique_list\n",
    "\n",
    "def bubble_sort(list_to_sort):\n",
    "    for i in range(len(list_to_sort)-1,0,-1):\n",
    "        for j in range(i):\n",
    "            if list_to_sort[j] > list_to_sort[j+1]:\n",
    "                temp = list_to_sort[j+1] \n",
    "                list_to_sort[j+1] = list_to_sort[j] \n",
    "                list_to_sort[j] = temp \n",
    "                \n",
    "\n",
    "all_possible_list(101)\n",
    "#[128, 182, 218, 281, 812, 821]"
   ]
  },
  {
   "cell_type": "code",
   "execution_count": 40,
   "id": "9d198c80",
   "metadata": {},
   "outputs": [
    {
     "data": {
      "text/plain": [
       "[1, 2, 3, 4]"
      ]
     },
     "execution_count": 40,
     "metadata": {},
     "output_type": "execute_result"
    }
   ],
   "source": [
    "#first task\n",
    "\n",
    "#['A','A',B','C']\n",
    "\n",
    "def unique_in_order(seq):\n",
    "    main_list = []\n",
    "    for i in seq:\n",
    "        if (not main_list) or (main_list[-1] != i)  :\n",
    "            main_list.append(i)\n",
    "    return main_list\n",
    "\n",
    "unique_in_order((1,2,3,4,4,4))\n"
   ]
  },
  {
   "cell_type": "code",
   "execution_count": 185,
   "id": "7bbaf629",
   "metadata": {},
   "outputs": [
    {
     "name": "stdout",
     "output_type": "stream",
     "text": [
      "1\n"
     ]
    }
   ],
   "source": [
    "string_to_sort = '0' + '0' + '1'\n",
    "print(int(string_to_sort))"
   ]
  }
 ],
 "metadata": {
  "kernelspec": {
   "display_name": "Python 3 (ipykernel)",
   "language": "python",
   "name": "python3"
  },
  "language_info": {
   "codemirror_mode": {
    "name": "ipython",
    "version": 3
   },
   "file_extension": ".py",
   "mimetype": "text/x-python",
   "name": "python",
   "nbconvert_exporter": "python",
   "pygments_lexer": "ipython3",
   "version": "3.9.7"
  }
 },
 "nbformat": 4,
 "nbformat_minor": 5
}
